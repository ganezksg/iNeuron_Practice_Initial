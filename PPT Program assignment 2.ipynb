{
 "cells": [
  {
   "cell_type": "markdown",
   "id": "0bb5c314",
   "metadata": {},
   "source": [
    "Question 1\n",
    "Given an integer array nums of 2n integers, group these integers into n pairs (a1, b1), (a2, b2),..., (an, bn) such that the sum of min(ai, bi) for all i is maximized. Return the maximized sum."
   ]
  },
  {
   "cell_type": "code",
   "execution_count": 1,
   "id": "fcb8a738",
   "metadata": {},
   "outputs": [],
   "source": [
    "def array_min_sum(nums):\n",
    "    nums.sort()\n",
    "    sum_x = 0\n",
    "    \n",
    "    for i in range(0, len(nums), 2):\n",
    "        sum_x += nums[i]\n",
    "        \n",
    "    return sum_x    "
   ]
  },
  {
   "cell_type": "code",
   "execution_count": 3,
   "id": "d5e10a0a",
   "metadata": {},
   "outputs": [
    {
     "data": {
      "text/plain": [
       "6"
      ]
     },
     "execution_count": 3,
     "metadata": {},
     "output_type": "execute_result"
    }
   ],
   "source": [
    "array_min_sum([4, 4, 3, 2])"
   ]
  },
  {
   "cell_type": "markdown",
   "id": "315cca71",
   "metadata": {},
   "source": [
    "Question 2\n",
    "Alice has n candies, where the ith candy is of type candyType[i]. Alice noticed that she started to gain weight, so she visited a doctor. \n",
    "\n",
    "The doctor advised Alice to only eat n / 2 of the candies she has (n is always even). Alice likes her candies very much, and she wants to eat the maximum number of different types of candies while still following the doctor's advice. \n",
    "\n",
    "Given the integer array candyType of length n, return the maximum number of different types of candies she can eat if she only eats n / 2 of them."
   ]
  },
  {
   "cell_type": "code",
   "execution_count": 7,
   "id": "445c9228",
   "metadata": {},
   "outputs": [],
   "source": [
    "def AliceCandies(candy_nums):\n",
    "    unique_candies = set(candy_nums)\n",
    "    max_candies = len(candy_nums) // 2\n",
    "\n",
    "    return min(len(unique_candies), max_candies)"
   ]
  },
  {
   "cell_type": "code",
   "execution_count": 13,
   "id": "f24f9ef7",
   "metadata": {},
   "outputs": [
    {
     "data": {
      "text/plain": [
       "2"
      ]
     },
     "execution_count": 13,
     "metadata": {},
     "output_type": "execute_result"
    }
   ],
   "source": [
    "AliceCandies([1, 1, 2, 2, 3, ])"
   ]
  },
  {
   "cell_type": "code",
   "execution_count": 19,
   "id": "c54d1389",
   "metadata": {},
   "outputs": [],
   "source": [
    "def diff_1(nums):\n",
    "    count = {}\n",
    "    max_length = 0\n",
    "\n",
    "    for num in nums:\n",
    "        count[num] = count.get(num, 0) + 1\n",
    "\n",
    "    for num in freq:\n",
    "        if num + 1 in freq:\n",
    "            max_length = max(max_length, count[num] + count[num + 1])\n",
    "\n",
    "    return max_length"
   ]
  },
  {
   "cell_type": "code",
   "execution_count": 20,
   "id": "98b433e8",
   "metadata": {},
   "outputs": [
    {
     "data": {
      "text/plain": [
       "5"
      ]
     },
     "execution_count": 20,
     "metadata": {},
     "output_type": "execute_result"
    }
   ],
   "source": [
    "diff_1([1, 3, 2, 2, 5, 2, 3, 7])"
   ]
  },
  {
   "cell_type": "markdown",
   "id": "8d2cebc9",
   "metadata": {},
   "source": [
    "Question 4\n",
    "You have a long flowerbed in which some of the plots are planted, and some are not.\n",
    "However, flowers cannot be planted in adjacent plots.\n",
    "Given an integer array flowerbed containing 0's and 1's, where 0 means empty and 1 means not empty, and an integer n, return true if n new flowers can be planted in the flowerbed without violating the no-adjacent-flowers rule and false otherwise."
   ]
  },
  {
   "cell_type": "code",
   "execution_count": 40,
   "id": "eb7130f8",
   "metadata": {},
   "outputs": [],
   "source": [
    "def flowerbed(nums, n):\n",
    "    count = 0\n",
    "    for i in range(len(nums)):\n",
    "        if nums[i] == 0:\n",
    "            if nums[i-1]==0 and nums[i+1] == 0:\n",
    "                count += 1\n",
    "            else:\n",
    "                pass\n",
    "                \n",
    "    if n <= count:\n",
    "        return True\n",
    "    else:\n",
    "        return False\n",
    "            "
   ]
  },
  {
   "cell_type": "code",
   "execution_count": 46,
   "id": "3f7832a7",
   "metadata": {},
   "outputs": [
    {
     "data": {
      "text/plain": [
       "True"
      ]
     },
     "execution_count": 46,
     "metadata": {},
     "output_type": "execute_result"
    }
   ],
   "source": [
    "flowerbed([1,0,0,0,1,0,0,0,1], 2)"
   ]
  },
  {
   "cell_type": "markdown",
   "id": "ba15db63",
   "metadata": {},
   "source": [
    "Question 5\n",
    "Given an integer array nums, find three numbers whose product is maximum and return the maximum product."
   ]
  },
  {
   "cell_type": "code",
   "execution_count": 47,
   "id": "14129e4a",
   "metadata": {},
   "outputs": [],
   "source": [
    "def max_product(nums):\n",
    "    nums.sort()\n",
    "    return nums[-1]*nums[-2]*nums[-3]"
   ]
  },
  {
   "cell_type": "code",
   "execution_count": 49,
   "id": "df54c4fa",
   "metadata": {},
   "outputs": [
    {
     "data": {
      "text/plain": [
       "105"
      ]
     },
     "execution_count": 49,
     "metadata": {},
     "output_type": "execute_result"
    }
   ],
   "source": [
    "max_product([1,2,3,5,7])"
   ]
  },
  {
   "cell_type": "markdown",
   "id": "1f4807b3",
   "metadata": {},
   "source": [
    "Question 6\n",
    "Given an array of integers nums which is sorted in ascending order, and an integer target,\n",
    "write a function to search target in nums. If target exists, then return its index. Otherwise,\n",
    "return -1.\n",
    "\n",
    "You must write an algorithm with O(log n) runtime complexity."
   ]
  },
  {
   "cell_type": "code",
   "execution_count": 50,
   "id": "bf67274f",
   "metadata": {},
   "outputs": [],
   "source": [
    "def find_index(nums, n):\n",
    "    left = 0\n",
    "    right = len(nums) - 1\n",
    "\n",
    "    while left <= right:\n",
    "        mid = (left + right) // 2\n",
    "\n",
    "        if nums[mid] == n:\n",
    "            return mid\n",
    "        elif nums[mid] < n:\n",
    "            left = mid + 1\n",
    "        else:\n",
    "            right = mid - 1\n",
    "\n",
    "    return -1"
   ]
  },
  {
   "cell_type": "code",
   "execution_count": 54,
   "id": "4bc1d6e9",
   "metadata": {},
   "outputs": [
    {
     "data": {
      "text/plain": [
       "0"
      ]
     },
     "execution_count": 54,
     "metadata": {},
     "output_type": "execute_result"
    }
   ],
   "source": [
    "find_index([-1, 0, 3, 5, 9, 12], -1)"
   ]
  },
  {
   "cell_type": "markdown",
   "id": "a2562930",
   "metadata": {},
   "source": [
    "Question 7\n",
    "An array is monotonic if it is either monotone increasing or monotone decreasing.\n",
    "\n",
    "An array nums is monotone increasing if for all i <= j, nums[i] <= nums[j]. An array nums is\n",
    "monotone decreasing if for all i <= j, nums[i] >= nums[j].\n",
    "\n",
    "Given an integer array nums, return true if the given array is monotonic, or false otherwise."
   ]
  },
  {
   "cell_type": "code",
   "execution_count": 57,
   "id": "37926411",
   "metadata": {},
   "outputs": [],
   "source": [
    "def ismonotonic(nums):\n",
    "    def isNonIncreasing(nums):\n",
    "        for i in range(1, len(nums)):\n",
    "            if nums[i] > nums[i - 1]:\n",
    "                return False\n",
    "        return True\n",
    "\n",
    "    def isNonDecreasing(nums):\n",
    "        for i in range(1, len(nums)):\n",
    "            if nums[i] < nums[i - 1]:\n",
    "                return False\n",
    "        return True\n",
    "    return isNonIncreasing(nums) or isNonDecreasing(nums)"
   ]
  },
  {
   "cell_type": "code",
   "execution_count": 58,
   "id": "a498294b",
   "metadata": {},
   "outputs": [
    {
     "data": {
      "text/plain": [
       "True"
      ]
     },
     "execution_count": 58,
     "metadata": {},
     "output_type": "execute_result"
    }
   ],
   "source": [
    "ismonotonic([6, 5, 4, 4])"
   ]
  },
  {
   "cell_type": "markdown",
   "id": "90df10de",
   "metadata": {},
   "source": [
    "Question 8\n",
    "You are given an integer array nums and an integer k.\n",
    "\n",
    "In one operation, you can choose any index i where 0 <= i < nums.length and change nums[i] to nums[i] + x where x is an integer from the range [-k, k]. You can apply this operation at most once for each index i.\n",
    "\n",
    "The score of nums is the difference between the maximum and minimum elements in nums.\n",
    "\n",
    "Return the minimum score of nums after applying the mentioned operation at most once for each index in it."
   ]
  },
  {
   "cell_type": "code",
   "execution_count": 63,
   "id": "5d435453",
   "metadata": {},
   "outputs": [],
   "source": [
    "import sys\n",
    "\n",
    "def minimumScore(nums, k):\n",
    "    minimum_score = sys.maxsize\n",
    "\n",
    "    for x in range(-k, k+1):\n",
    "        new_nums = [num + x for num in nums]\n",
    "        max_num = max(new_nums)\n",
    "        min_num = min(new_nums)\n",
    "        score = max_num - min_num\n",
    "        minimum_score = min(minimum_score, score)\n",
    "\n",
    "    return minimum_score"
   ]
  },
  {
   "cell_type": "code",
   "execution_count": 64,
   "id": "01f61e4d",
   "metadata": {},
   "outputs": [
    {
     "data": {
      "text/plain": [
       "6"
      ]
     },
     "execution_count": 64,
     "metadata": {},
     "output_type": "execute_result"
    }
   ],
   "source": [
    "minimumScore([1, 3, 7],3)"
   ]
  },
  {
   "cell_type": "code",
   "execution_count": null,
   "id": "a48f28f8",
   "metadata": {},
   "outputs": [],
   "source": []
  }
 ],
 "metadata": {
  "kernelspec": {
   "display_name": "Python 3 (ipykernel)",
   "language": "python",
   "name": "python3"
  },
  "language_info": {
   "codemirror_mode": {
    "name": "ipython",
    "version": 3
   },
   "file_extension": ".py",
   "mimetype": "text/x-python",
   "name": "python",
   "nbconvert_exporter": "python",
   "pygments_lexer": "ipython3",
   "version": "3.10.9"
  }
 },
 "nbformat": 4,
 "nbformat_minor": 5
}
