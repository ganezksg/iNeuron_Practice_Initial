{
 "cells": [
  {
   "cell_type": "markdown",
   "id": "bfd37815",
   "metadata": {},
   "source": [
    "Question 1\n",
    "Given three integer arrays arr1, arr2 and arr3 sorted in strictly increasing order, return a sorted array of only the integers that appeared in all three arrays."
   ]
  },
  {
   "cell_type": "code",
   "execution_count": 5,
   "id": "c7e48039",
   "metadata": {},
   "outputs": [],
   "source": [
    "def repeats(A1, A2, A3):\n",
    "    result = []\n",
    "    for i in A1:\n",
    "        if i in A2:\n",
    "            if i in A3:\n",
    "                result.append(i)\n",
    "            \n",
    "    return result"
   ]
  },
  {
   "cell_type": "code",
   "execution_count": 11,
   "id": "bd9d1a10",
   "metadata": {},
   "outputs": [
    {
     "data": {
      "text/plain": [
       "[1, 5]"
      ]
     },
     "execution_count": 11,
     "metadata": {},
     "output_type": "execute_result"
    }
   ],
   "source": [
    "repeats([1,2,3,4,5],[1,2,5,7,9],[1,3,4,5,8])"
   ]
  },
  {
   "cell_type": "markdown",
   "id": "74d37133",
   "metadata": {},
   "source": [
    "\n",
    "💡 **Question 2**\n",
    "\n",
    "Given two **0-indexed** integer arrays nums1 and nums2, return *a list* answer *of size* 2 *where:*\n",
    "\n",
    "- answer[0] *is a list of all **distinct** integers in* nums1 *which are **not** present in* nums2*.*\n",
    "- answer[1] *is a list of all **distinct** integers in* nums2 *which are **not** present in* nums1.\n"
   ]
  },
  {
   "cell_type": "code",
   "execution_count": 16,
   "id": "bf7d1895",
   "metadata": {},
   "outputs": [],
   "source": [
    "def notRepeats(nums1, nums2):\n",
    "    \n",
    "    output = [nums1, nums2]\n",
    "    for n in nums1:\n",
    "        if n in nums2:\n",
    "            nums1.remove(n)\n",
    "            nums2.remove(n)\n",
    "            \n",
    "    return output"
   ]
  },
  {
   "cell_type": "code",
   "execution_count": 24,
   "id": "366654d1",
   "metadata": {},
   "outputs": [
    {
     "data": {
      "text/plain": [
       "[[1, 3], [4, 6]]"
      ]
     },
     "execution_count": 24,
     "metadata": {},
     "output_type": "execute_result"
    }
   ],
   "source": [
    "notRepeats([1,2,3],[2,4,6])"
   ]
  },
  {
   "cell_type": "markdown",
   "id": "0bfe5c89",
   "metadata": {},
   "source": [
    "💡 **Question 3**\n",
    "Given a 2D integer array matrix, return *the **transpose** of* matrix.\n",
    "\n",
    "The **transpose** of a matrix is the matrix flipped over its main diagonal, switching the matrix's row and column indices.\n"
   ]
  },
  {
   "cell_type": "code",
   "execution_count": 31,
   "id": "cbce4b15",
   "metadata": {},
   "outputs": [],
   "source": [
    "def transpose(matrix):\n",
    "    transposed = transposed = [[0 for i in range(len(matrix))] for i in range(len(matrix[0]))]\n",
    "    for i in range(len(matrix)):\n",
    "        for j in range(len(matrix[0])):\n",
    "            transposed[j][i] = matrix[i][j]\n",
    "            \n",
    "    return transposed"
   ]
  },
  {
   "cell_type": "code",
   "execution_count": 32,
   "id": "6eee1e7c",
   "metadata": {},
   "outputs": [
    {
     "data": {
      "text/plain": [
       "[[1, 4, 7], [2, 5, 8], [3, 6, 9]]"
      ]
     },
     "execution_count": 32,
     "metadata": {},
     "output_type": "execute_result"
    }
   ],
   "source": [
    "transpose([[1,2,3],[4,5,6],[7,8,9]])"
   ]
  },
  {
   "cell_type": "markdown",
   "id": "ac5f101e",
   "metadata": {},
   "source": [
    "Question 4\n",
    "Given an integer array nums of 2n integers, group these integers into n pairs (a1, b1), (a2, b2), ..., (an, bn) such that the sum of min(ai, bi) for all i is maximized. Return the maximized sum."
   ]
  },
  {
   "cell_type": "code",
   "execution_count": 33,
   "id": "fa9cb279",
   "metadata": {},
   "outputs": [],
   "source": [
    "def arrayPairSum(nums):\n",
    "    nums.sort()\n",
    "    max_sum = 0\n",
    "\n",
    "    for i in range(0, len(nums), 2):\n",
    "        max_sum += nums[i]\n",
    "\n",
    "    return max_sum"
   ]
  },
  {
   "cell_type": "code",
   "execution_count": 34,
   "id": "1548f4ca",
   "metadata": {},
   "outputs": [
    {
     "data": {
      "text/plain": [
       "4"
      ]
     },
     "execution_count": 34,
     "metadata": {},
     "output_type": "execute_result"
    }
   ],
   "source": [
    "arrayPairSum([1,4,3,2])"
   ]
  },
  {
   "cell_type": "markdown",
   "id": "453551b9",
   "metadata": {},
   "source": [
    "💡 **Question 5**\n",
    "You have n coins and you want to build a staircase with these coins. The staircase consists of k rows where the ith row has exactly i coins. The last row of the staircase **may be** incomplete.\n",
    "\n",
    "Given the integer n, return *the number of **complete rows** of the staircase you will build*."
   ]
  },
  {
   "cell_type": "code",
   "execution_count": 37,
   "id": "b7e0a51e",
   "metadata": {},
   "outputs": [],
   "source": [
    "def stairs(nums):\n",
    "    row = 1\n",
    "    while nums >= row:\n",
    "        nums -= row\n",
    "        row += 1\n",
    "\n",
    "    return row - 1"
   ]
  },
  {
   "cell_type": "code",
   "execution_count": 43,
   "id": "17670233",
   "metadata": {},
   "outputs": [
    {
     "data": {
      "text/plain": [
       "4"
      ]
     },
     "execution_count": 43,
     "metadata": {},
     "output_type": "execute_result"
    }
   ],
   "source": [
    "stairs(10)"
   ]
  },
  {
   "cell_type": "markdown",
   "id": "e76b1fea",
   "metadata": {},
   "source": [
    "Question 6\n",
    "Given an integer array nums sorted in non-decreasing order, return an array of the squares of each number sorted in non-decreasing order."
   ]
  },
  {
   "cell_type": "code",
   "execution_count": 14,
   "id": "dc82933e",
   "metadata": {},
   "outputs": [],
   "source": [
    "def square(nums):\n",
    "    n = len(nums)\n",
    "    result = [0] * n\n",
    "    left, right = 0, n - 1\n",
    "    index = n - 1\n",
    "\n",
    "    while left <= right:\n",
    "        left_square = nums[left] * nums[left]\n",
    "        right_square = nums[right] * nums[right]\n",
    "\n",
    "        if left_square > right_square:\n",
    "            result[index] = left_square\n",
    "            left += 1\n",
    "        else:\n",
    "            result[index] = right_square\n",
    "            right -= 1\n",
    "\n",
    "        index -= 1\n",
    "\n",
    "    return result"
   ]
  },
  {
   "cell_type": "code",
   "execution_count": 15,
   "id": "e07607aa",
   "metadata": {},
   "outputs": [
    {
     "data": {
      "text/plain": [
       "[0, 1, 9, 16, 100]"
      ]
     },
     "execution_count": 15,
     "metadata": {},
     "output_type": "execute_result"
    }
   ],
   "source": [
    "square( [-4,-1,0,3,10])"
   ]
  },
  {
   "cell_type": "markdown",
   "id": "327838ca",
   "metadata": {},
   "source": [
    "💡 **Question 7**\n",
    "You are given an m x n matrix M initialized with all 0's and an array of operations ops, where ops[i] = [ai, bi] means M[x][y] should be incremented by one for all 0 <= x < ai and 0 <= y < bi.\n",
    "\n",
    "Count and return *the number of maximum integers in the matrix after performing all the operations*"
   ]
  },
  {
   "cell_type": "code",
   "execution_count": 16,
   "id": "b35be384",
   "metadata": {},
   "outputs": [],
   "source": [
    "def maxCount(m, n, ops):\n",
    "    if not ops:\n",
    "        return m * n\n",
    "\n",
    "    min_row = min(op[0] for op in ops)\n",
    "    min_col = min(op[1] for op in ops)\n",
    "\n",
    "    return min_row * min_col"
   ]
  },
  {
   "cell_type": "code",
   "execution_count": 18,
   "id": "4981e915",
   "metadata": {},
   "outputs": [
    {
     "data": {
      "text/plain": [
       "4"
      ]
     },
     "execution_count": 18,
     "metadata": {},
     "output_type": "execute_result"
    }
   ],
   "source": [
    "maxCount(3,3,[[2,2],[3,3]])"
   ]
  },
  {
   "cell_type": "markdown",
   "id": "6e47341d",
   "metadata": {},
   "source": [
    "💡 **Question 8**\n",
    "\n",
    "Given the array nums consisting of 2n elements in the form [x1,x2,...,xn,y1,y2,...,yn].\n",
    "\n",
    "*Return the array in the form* [x1,y1,x2,y2,...,xn,yn]."
   ]
  },
  {
   "cell_type": "code",
   "execution_count": 19,
   "id": "25fead00",
   "metadata": {},
   "outputs": [],
   "source": [
    "def pairs(nums,n):\n",
    "    result = []\n",
    "    for i in range(n):\n",
    "        result.append(nums[i])\n",
    "        result.append(nums[i + n])\n",
    "    return result"
   ]
  },
  {
   "cell_type": "code",
   "execution_count": 20,
   "id": "09309128",
   "metadata": {},
   "outputs": [
    {
     "data": {
      "text/plain": [
       "[2, 3, 5, 4, 1, 7]"
      ]
     },
     "execution_count": 20,
     "metadata": {},
     "output_type": "execute_result"
    }
   ],
   "source": [
    "pairs([2,5,1,3,4,7],3)"
   ]
  },
  {
   "cell_type": "code",
   "execution_count": null,
   "id": "7747efdd",
   "metadata": {},
   "outputs": [],
   "source": []
  }
 ],
 "metadata": {
  "kernelspec": {
   "display_name": "Python 3 (ipykernel)",
   "language": "python",
   "name": "python3"
  },
  "language_info": {
   "codemirror_mode": {
    "name": "ipython",
    "version": 3
   },
   "file_extension": ".py",
   "mimetype": "text/x-python",
   "name": "python",
   "nbconvert_exporter": "python",
   "pygments_lexer": "ipython3",
   "version": "3.10.9"
  }
 },
 "nbformat": 4,
 "nbformat_minor": 5
}
