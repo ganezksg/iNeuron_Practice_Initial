{
 "cells": [
  {
   "cell_type": "markdown",
   "id": "ab8f0c35",
   "metadata": {},
   "source": [
    "\n",
    "💡 **Q1.** Given an array of integers nums and an integer target, return indices of the two numbers such that they add up to target.\n",
    "\n",
    "You may assume that each input would have exactly one solution, and you may not use the same element twice.\n",
    "\n",
    "You can return the answer in any order.\n",
    "\n",
    "**Example:**\n",
    "Input: nums = [2,7,11,15], target = 9\n",
    "Output0 [0,1]\n",
    "\n",
    "**Explanation:** Because nums[0] + nums[1] == 9, we return [0, 1]\n"
   ]
  },
  {
   "cell_type": "code",
   "execution_count": 4,
   "id": "048754a0",
   "metadata": {},
   "outputs": [],
   "source": [
    "def findindices(nums,target):\n",
    "    \n",
    "    for i in range(len(nums)):\n",
    "        x = nums[i]\n",
    "        y = target - nums[i]\n",
    "        if y in nums[i+1:]:\n",
    "            return[i, nums.index(y, i + 1)]\n",
    "        \n",
    "    return []\n",
    "            "
   ]
  },
  {
   "cell_type": "code",
   "execution_count": 6,
   "id": "8fb4b69f",
   "metadata": {},
   "outputs": [
    {
     "data": {
      "text/plain": [
       "[2, 3]"
      ]
     },
     "execution_count": 6,
     "metadata": {},
     "output_type": "execute_result"
    }
   ],
   "source": [
    "findindices([2, 7, 11, 15], 26)"
   ]
  },
  {
   "cell_type": "markdown",
   "id": "0c2c7509",
   "metadata": {},
   "source": [
    "💡 **Q2.** Given an integer array nums and an integer val, remove all occurrences of val in nums in-place. The order of the elements may be changed. Then return the number of elements in nums which are not equal to val.\n",
    "\n",
    "Consider the number of elements in nums which are not equal to val be k, to get accepted, you need to do the following things:\n",
    "\n",
    "- Change the array nums such that the first k elements of nums contain the elements which are not equal to val. The remaining elements of nums are not important as well as the size of nums.\n",
    "- Return k.\n",
    "\n",
    "**Example :**\n",
    "Input: nums = [3,2,2,3], val = 3\n",
    "Output: 2, nums = [2,2,_*,_*]\n",
    "\n",
    "**Explanation:** Your function should return k = 2, with the first two elements of nums being 2. It does not matter what you leave beyond the returned k (hence they are underscores\n",
    "\n",
    "</aside>"
   ]
  },
  {
   "cell_type": "code",
   "execution_count": 41,
   "id": "a9a6543e",
   "metadata": {},
   "outputs": [],
   "source": [
    "def remov_n(nums, val):\n",
    "    k =(len(nums)) - nums.count(val)\n",
    "    while val in nums:\n",
    "        nums.remove(val)\n",
    "        \n",
    "    return k, nums"
   ]
  },
  {
   "cell_type": "code",
   "execution_count": 46,
   "id": "5bf56629",
   "metadata": {},
   "outputs": [
    {
     "data": {
      "text/plain": [
       "(3, [2, 2, 4])"
      ]
     },
     "execution_count": 46,
     "metadata": {},
     "output_type": "execute_result"
    }
   ],
   "source": [
    "remov_n([3,2,2,4,3], 3)"
   ]
  },
  {
   "cell_type": "markdown",
   "id": "1f6ba669",
   "metadata": {},
   "source": [
    "💡 **Q3.** Given a sorted array of distinct integers and a target value, return the index if the target is found. If not, return the index where it would be if it were inserted in order.\n",
    "\n",
    "You must write an algorithm with O(log n) runtime complexity."
   ]
  },
  {
   "cell_type": "code",
   "execution_count": 51,
   "id": "7311234d",
   "metadata": {},
   "outputs": [],
   "source": [
    "def find_n(nums, target):\n",
    "    if target not in nums:\n",
    "        index = 0\n",
    "        for i in range(len(nums)):\n",
    "            if nums[i]<target:\n",
    "                index += 1\n",
    "        return index\n",
    "    else:\n",
    "        return nums.index(target)"
   ]
  },
  {
   "cell_type": "code",
   "execution_count": 56,
   "id": "32fdeba7",
   "metadata": {},
   "outputs": [
    {
     "data": {
      "text/plain": [
       "11"
      ]
     },
     "execution_count": 56,
     "metadata": {},
     "output_type": "execute_result"
    }
   ],
   "source": [
    "find_n([1,2,3,6,8,10,20,30,40,50,100], 101)"
   ]
  },
  {
   "cell_type": "markdown",
   "id": "107acc49",
   "metadata": {},
   "source": [
    "💡 **Q4.** You are given a large integer represented as an integer array digits, where each digits[i] is the ith digit of the integer. The digits are ordered from most significant to least significant in left-to-right order. The large integer does not contain any leading 0's.\n",
    "\n",
    "Increment the large integer by one and return the resulting array of digits."
   ]
  },
  {
   "cell_type": "code",
   "execution_count": 70,
   "id": "81d35dfb",
   "metadata": {},
   "outputs": [],
   "source": [
    "def add_1(digits):\n",
    "    word = \"\"\n",
    "    for i in digits:\n",
    "        word += str(i) \n",
    "\n",
    "    final_number = str(int(word) + 1)\n",
    "    final_array = [int(i) for i in final_number]\n",
    "    \n",
    "    return final_array"
   ]
  },
  {
   "cell_type": "code",
   "execution_count": 78,
   "id": "650ac2f7",
   "metadata": {},
   "outputs": [
    {
     "data": {
      "text/plain": [
       "[1, 0, 0]"
      ]
     },
     "execution_count": 78,
     "metadata": {},
     "output_type": "execute_result"
    }
   ],
   "source": [
    "add_1([9,9])"
   ]
  },
  {
   "cell_type": "markdown",
   "id": "2d17f105",
   "metadata": {},
   "source": [
    "💡 **Q5.** You are given two integer arrays nums1 and nums2, sorted in non-decreasing order, and two integers m and n, representing the number of elements in nums1 and nums2 respectively.\n",
    "\n",
    "Merge nums1 and nums2 into a single array sorted in non-decreasing order.\n",
    "\n",
    "The final sorted array should not be returned by the function, but instead be stored inside the array nums1. To accommodate this, nums1 has a length of m + n, where the first m elements denote the elements that should be merged, and the last n elements are set to 0 and should be ignored. nums2 has a length of n."
   ]
  },
  {
   "cell_type": "code",
   "execution_count": 100,
   "id": "4c809308",
   "metadata": {},
   "outputs": [],
   "source": [
    "def merge_arrays(nums1,nums2,m,n):\n",
    "    nums1 = nums1[:m] + nums2[:n]\n",
    "    nums1.sort()\n",
    "    return nums1\n",
    "    "
   ]
  },
  {
   "cell_type": "code",
   "execution_count": 105,
   "id": "2797414f",
   "metadata": {},
   "outputs": [
    {
     "data": {
      "text/plain": [
       "[1, 2, 3, 5, 5, 6]"
      ]
     },
     "execution_count": 105,
     "metadata": {},
     "output_type": "execute_result"
    }
   ],
   "source": [
    "merge_arrays([1,2,3],[5,5,6],3,3)"
   ]
  },
  {
   "cell_type": "markdown",
   "id": "575a47fb",
   "metadata": {},
   "source": [
    "Q6. Given an integer array nums, return true if any value appears at least twice in the array, and return false if every element is distinct."
   ]
  },
  {
   "cell_type": "code",
   "execution_count": 108,
   "id": "bd5ace1c",
   "metadata": {},
   "outputs": [],
   "source": [
    "def duplicate(nums):\n",
    "    for i in range(len(nums)):\n",
    "        if nums.count(nums[i]) > 1:\n",
    "            return True\n",
    "        else:\n",
    "            return False"
   ]
  },
  {
   "cell_type": "code",
   "execution_count": 117,
   "id": "ec804462",
   "metadata": {},
   "outputs": [
    {
     "data": {
      "text/plain": [
       "True"
      ]
     },
     "execution_count": 117,
     "metadata": {},
     "output_type": "execute_result"
    }
   ],
   "source": [
    "duplicate([1,2,3,1])"
   ]
  },
  {
   "cell_type": "markdown",
   "id": "52a76efb",
   "metadata": {},
   "source": [
    "Q7. Given an integer array nums, move all 0's to the end of it while maintaining the relative order of the nonzero elements."
   ]
  },
  {
   "cell_type": "code",
   "execution_count": 159,
   "id": "189eb4a7",
   "metadata": {},
   "outputs": [],
   "source": [
    "def movezero(nums):\n",
    "    zero = []\n",
    "    for i in nums:\n",
    "        if i ==0:\n",
    "            nums.remove(i)\n",
    "            zero.append(i)\n",
    "\n",
    "    return nums+zero"
   ]
  },
  {
   "cell_type": "code",
   "execution_count": 168,
   "id": "001fae71",
   "metadata": {},
   "outputs": [
    {
     "data": {
      "text/plain": [
       "[1, 3, 12, 0, 0]"
      ]
     },
     "execution_count": 168,
     "metadata": {},
     "output_type": "execute_result"
    }
   ],
   "source": [
    "movezero([0,1,0,3,12])"
   ]
  },
  {
   "cell_type": "markdown",
   "id": "d4c4ba78",
   "metadata": {},
   "source": [
    "💡 **Q8.** You have a set of integers s, which originally contains all the numbers from 1 to n. Unfortunately, due to some error, one of the numbers in s got duplicated to another number in the set, which results in repetition of one number and loss of another number.\n",
    "\n",
    "You are given an integer array nums representing the data status of this set after the error.\n",
    "\n",
    "Find the number that occurs twice and the number that is missing and return them in the form of an array."
   ]
  },
  {
   "cell_type": "code",
   "execution_count": 191,
   "id": "4700c1b8",
   "metadata": {},
   "outputs": [],
   "source": [
    "def repeat(nums):\n",
    "    for i in range(len(nums)):\n",
    "        if nums[i] == nums[i+1]:\n",
    "            return [nums[i], nums[i]+1]"
   ]
  },
  {
   "cell_type": "code",
   "execution_count": 194,
   "id": "5bc5302a",
   "metadata": {},
   "outputs": [
    {
     "data": {
      "text/plain": [
       "[4, 5]"
      ]
     },
     "execution_count": 194,
     "metadata": {},
     "output_type": "execute_result"
    }
   ],
   "source": [
    "repeat([1,2,3,4,4,5])"
   ]
  },
  {
   "cell_type": "code",
   "execution_count": null,
   "id": "7e20bed0",
   "metadata": {},
   "outputs": [],
   "source": []
  }
 ],
 "metadata": {
  "kernelspec": {
   "display_name": "Python 3 (ipykernel)",
   "language": "python",
   "name": "python3"
  },
  "language_info": {
   "codemirror_mode": {
    "name": "ipython",
    "version": 3
   },
   "file_extension": ".py",
   "mimetype": "text/x-python",
   "name": "python",
   "nbconvert_exporter": "python",
   "pygments_lexer": "ipython3",
   "version": "3.10.9"
  }
 },
 "nbformat": 4,
 "nbformat_minor": 5
}
